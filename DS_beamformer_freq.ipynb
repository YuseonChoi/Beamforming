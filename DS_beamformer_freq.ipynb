{
 "cells": [
  {
   "cell_type": "code",
   "execution_count": 18,
   "metadata": {},
   "outputs": [],
   "source": [
    "import os\n",
    "import torch\n",
    "import torchaudio\n",
    "import numpy as np\n",
    "import math"
   ]
  },
  {
   "cell_type": "code",
   "execution_count": 19,
   "metadata": {},
   "outputs": [
    {
     "data": {
      "text/plain": [
       "['mic1.wav', 'mic6.wav', 'mic5.wav', 'mic4.wav', 'mic2.wav', 'mic3.wav']"
      ]
     },
     "execution_count": 19,
     "metadata": {},
     "output_type": "execute_result"
    }
   ],
   "source": [
    "folder=\"Convolution\"\n",
    "subfolder=\"mic_signal\"\n",
    "\n",
    "file_path=os.path.join(folder,subfolder)\n",
    "\n",
    "# wav file 불러오기\n",
    "file_list=os.listdir(file_path)\n",
    "file_list"
   ]
  },
  {
   "cell_type": "code",
   "execution_count": 13,
   "metadata": {},
   "outputs": [],
   "source": [
    "src_angle=60\n",
    "speed_of_sound = 343  \n",
    "distance = 0.07"
   ]
  },
  {
   "cell_type": "code",
   "execution_count": 15,
   "metadata": {},
   "outputs": [
    {
     "ename": "RuntimeError",
     "evalue": "istft requires a complex-valued input tensor matching the output from stft with return_complex=True.",
     "output_type": "error",
     "traceback": [
      "\u001b[0;31m---------------------------------------------------------------------------\u001b[0m",
      "\u001b[0;31mRuntimeError\u001b[0m                              Traceback (most recent call last)",
      "Cell \u001b[0;32mIn[15], line 25\u001b[0m\n\u001b[1;32m     22\u001b[0m         complex_signal[freq][time]\u001b[38;5;241m=\u001b[39mmagnitude[freq][time]\u001b[38;5;241m*\u001b[39mtorch\u001b[38;5;241m.\u001b[39mexp(\u001b[38;5;241m1\u001b[39mj\u001b[38;5;241m*\u001b[39m(phase[freq][time]\u001b[38;5;241m-\u001b[39mphase_delay[freq][time]))\n\u001b[1;32m     24\u001b[0m complex_signal_dim \u001b[38;5;241m=\u001b[39m complex_signal\u001b[38;5;241m.\u001b[39munsqueeze(\u001b[38;5;241m0\u001b[39m)\n\u001b[0;32m---> 25\u001b[0m istft_result \u001b[38;5;241m=\u001b[39m \u001b[43mtorch\u001b[49m\u001b[38;5;241;43m.\u001b[39;49m\u001b[43mistft\u001b[49m\u001b[43m(\u001b[49m\u001b[43mcomplex_signal_dim\u001b[49m\u001b[43m,\u001b[49m\u001b[43mn_fft\u001b[49m\u001b[38;5;241;43m=\u001b[39;49m\u001b[38;5;241;43m2048\u001b[39;49m\u001b[43m,\u001b[49m\u001b[43mhop_length\u001b[49m\u001b[38;5;241;43m=\u001b[39;49m\u001b[38;5;241;43m512\u001b[39;49m\u001b[43m,\u001b[49m\u001b[43mreturn_complex\u001b[49m\u001b[38;5;241;43m=\u001b[39;49m\u001b[38;5;28;43;01mTrue\u001b[39;49;00m\u001b[43m)\u001b[49m\n\u001b[1;32m     26\u001b[0m beamformed\u001b[38;5;241m+\u001b[39m\u001b[38;5;241m=\u001b[39mistft_result\n",
      "\u001b[0;31mRuntimeError\u001b[0m: istft requires a complex-valued input tensor matching the output from stft with return_complex=True."
     ]
    }
   ],
   "source": [
    "beamformed=torch.empty(1, 1025, 519)\n",
    "for i in range(len(file_list)):\n",
    "    waveform, sample_rate = torchaudio.load(os.path.join(file_path,file_list[i]))\n",
    "    stft_result = torch.stft(waveform, n_fft=2048, hop_length=512,return_complex=True)\n",
    "    real_part,imag_part=stft_result.real,stft_result.imag\n",
    "    magnitude,phase=torch.sqrt(real_part**2 + imag_part**2),torch.atan2(imag_part, real_part)\n",
    "    magnitude,phase=magnitude[0], phase[0]\n",
    "\n",
    "    freq_index=stft_result[0].shape[0]\n",
    "    time_index=stft_result[0].shape[1]\n",
    "    phase_delay=torch.zeros(freq_index, time_index)\n",
    "    complex_signal=torch.zeros(freq_index, time_index)\n",
    "\n",
    "    time_delay=distance*math.cos(math.radians(src_angle))/speed_of_sound\n",
    "    total_freqbin=stft_result[0]\n",
    "\n",
    "    for freq in range(freq_index):\n",
    "        for time in range(time_index):\n",
    "            # freqbin마다 phase delay 계산\n",
    "            phase_delay[freq][time]=total_freqbin[freq][time]*2*math.pi*time_delay\n",
    "            # phase와 phase delay 차이 계산하여 복소수 변환\n",
    "            complex_signal[freq][time]=magnitude[freq][time]*torch.exp(1j*(phase[freq][time]-phase_delay[freq][time]))\n",
    "\n",
    "    complex_signal_dim = complex_signal.unsqueeze(0)\n",
    "    istft_result = torch.istft(complex_signal_dim,n_fft=2048,hop_length=512,return_complex=True)\n",
    "    beamformed+=istft_result"
   ]
  },
  {
   "cell_type": "code",
   "execution_count": 17,
   "metadata": {},
   "outputs": [
    {
     "data": {
      "text/plain": [
       "torch.Size([1025, 360])"
      ]
     },
     "execution_count": 17,
     "metadata": {},
     "output_type": "execute_result"
    }
   ],
   "source": [
    "complex_signal.shape"
   ]
  },
  {
   "cell_type": "code",
   "execution_count": 149,
   "metadata": {},
   "outputs": [
    {
     "data": {
      "text/plain": [
       "tensor([[-4.3038e-03, -1.0904e-02,  2.7122e-02,  ...,  6.4925e-03,\n",
       "          2.6259e-01,  2.9510e-01],\n",
       "        [ 5.4271e-02,  1.1388e-03, -2.6133e-02,  ...,  1.3351e-02,\n",
       "          2.4293e-01, -2.7608e-02],\n",
       "        [ 8.2528e-02, -6.5621e-02,  4.1663e-02,  ...,  2.7898e-02,\n",
       "          1.4318e-01,  6.8262e-03],\n",
       "        ...,\n",
       "        [ 9.5807e-04, -2.8514e-04, -5.1851e-04,  ...,  5.1615e-04,\n",
       "         -8.0829e-04, -1.8932e-03],\n",
       "        [ 3.7774e-04,  6.1100e-04, -1.0115e-03,  ...,  1.5755e-04,\n",
       "          2.6796e-05, -2.4420e-03],\n",
       "        [-1.8442e-04,  2.9439e-04,  4.9863e-06,  ...,  1.7202e-03,\n",
       "         -4.0323e-05, -2.9063e-03]])"
      ]
     },
     "execution_count": 149,
     "metadata": {},
     "output_type": "execute_result"
    }
   ],
   "source": [
    "torchaudio.save(\"Beamformed\",\"beamformed_signal.wav\", beamformed/len(file_list), sample_rate)"
   ]
  }
 ],
 "metadata": {
  "kernelspec": {
   "display_name": "venv",
   "language": "python",
   "name": "python3"
  },
  "language_info": {
   "codemirror_mode": {
    "name": "ipython",
    "version": 3
   },
   "file_extension": ".py",
   "mimetype": "text/x-python",
   "name": "python",
   "nbconvert_exporter": "python",
   "pygments_lexer": "ipython3",
   "version": "3.10.13"
  }
 },
 "nbformat": 4,
 "nbformat_minor": 2
}
