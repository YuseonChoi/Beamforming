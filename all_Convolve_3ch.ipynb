{
  "cells": [
    {
      "cell_type": "code",
      "execution_count": 25,
      "metadata": {
        "collapsed": false
      },
      "outputs": [
        {
          "name": "stdout",
          "output_type": "stream",
          "text": [
            "2.1.0+cu121\n",
            "2.1.0+cu121\n"
          ]
        }
      ],
      "source": [
        "import os\n",
        "from scipy.io import wavfile\n",
        "import numpy as np\n",
        "import torch\n",
        "import torchaudio\n",
        "import torchaudio.functional as F\n",
        "import torchaudio.transforms as transforms\n",
        "from IPython.display import Audio\n",
        "# import ffmpeg\n",
        "from IPython import display\n",
        "\n",
        "print(torch.__version__)\n",
        "print(torchaudio.__version__)\n",
        "\n",
        "import matplotlib.pyplot as plt"
      ]
    },
    {
      "cell_type": "markdown",
      "metadata": {},
      "source": [
        "### 멀티채널 데이터 만들기 (RIR + 소스)"
      ]
    },
    {
      "cell_type": "code",
      "execution_count": 26,
      "metadata": {},
      "outputs": [
        {
          "name": "stdout",
          "output_type": "stream",
          "text": [
            "6\n",
            "6\n"
          ]
        }
      ],
      "source": [
        "# 지정 폴더 내 파일 개수 확인\n",
        "folder1_path=\"Original\"\n",
        "folder2_path=\"RIR\"\n",
        "\n",
        "file1_list=os.listdir(folder1_path)\n",
        "\n",
        "file2_src1_list=os.listdir(os.path.join(folder2_path, \"src1\"))\n",
        "file2_src2_list=os.listdir(os.path.join(folder2_path, \"src2\"))\n",
        "\n",
        "file1_count=len(file1_list)\n",
        "file2_src1_count = len(file2_src1_list)\n",
        "file2_src2_count = len(file2_src2_list)\n",
        "\n",
        "print(file2_src1_count)\n",
        "print(file2_src2_count)"
      ]
    },
    {
      "cell_type": "code",
      "execution_count": 27,
      "metadata": {},
      "outputs": [
        {
          "name": "stdout",
          "output_type": "stream",
          "text": [
            "['source1.wav', 'source2.wav']\n"
          ]
        }
      ],
      "source": [
        "# 모든 소스 파일 정렬\n",
        "file1_list.sort()\n",
        "print(file1_list)"
      ]
    },
    {
      "cell_type": "code",
      "execution_count": 28,
      "metadata": {},
      "outputs": [
        {
          "name": "stdout",
          "output_type": "stream",
          "text": [
            "['RIR_3ch_src1_rcv1.wav', 'RIR_3ch_src1_rcv2.wav', 'RIR_3ch_src1_rcv3.wav', 'RIR_3ch_src1_rcv4.wav', 'RIR_3ch_src1_rcv5.wav', 'RIR_3ch_src1_rcv6.wav']\n",
            "['RIR_3ch_src2_rcv1.wav', 'RIR_3ch_src2_rcv2.wav', 'RIR_3ch_src2_rcv3.wav', 'RIR_3ch_src2_rcv4.wav', 'RIR_3ch_src2_rcv5.wav', 'RIR_3ch_src2_rcv6.wav']\n"
          ]
        }
      ],
      "source": [
        "# RIR 파일 정렬\n",
        "file2_src1_list.sort()\n",
        "file2_src2_list.sort()\n",
        "print(file2_src1_list)\n",
        "print(file2_src2_list)"
      ]
    },
    {
      "cell_type": "code",
      "execution_count": 29,
      "metadata": {},
      "outputs": [
        {
          "name": "stdout",
          "output_type": "stream",
          "text": [
            "Convolution wavfile 생성 완료\n"
          ]
        }
      ],
      "source": [
        "folder3_path = \"Convolution\"\n",
        "subfolder=\"src\"\n",
        "sample_rate = 48000\n",
        "\n",
        "# RIR 6,6,3 / src1,2\n",
        "src_idx=0\n",
        "SAMPLE_SPEECH = os.path.join(folder1_path, file1_list[src_idx])\n",
        "for rcv_idx in range(file2_src1_count):\n",
        "        SAMPLE_RIR = os.path.join(folder2_path, subfolder+str(src_idx+1), file2_src1_list[rcv_idx])\n",
        "        # Convolution 수행\n",
        "        rir_raw, _ = torchaudio.load(SAMPLE_RIR)\n",
        "        speech, _ = torchaudio.load(SAMPLE_SPEECH)\n",
        "        augmented = F.fftconvolve(speech, rir_raw)\n",
        "        filename = f\"Convolution_3ch_src{src_idx+1}_rcv{rcv_idx+1}.wav\"\n",
        "        filepath = os.path.join(folder3_path, subfolder+str(src_idx+1), filename)\n",
        "        # WAV 파일로 저장\n",
        "        torchaudio.save(filepath, augmented, 48000)\n",
        "\n",
        "src_idx=1\n",
        "SAMPLE_SPEECH = os.path.join(folder1_path, file1_list[src_idx])\n",
        "for rcv_idx in range(file2_src2_count):\n",
        "        SAMPLE_RIR = os.path.join(folder2_path, subfolder+str(src_idx+1), file2_src2_list[rcv_idx])\n",
        "        # Convolution 수행\n",
        "        rir_raw, _ = torchaudio.load(SAMPLE_RIR)\n",
        "        speech, _ = torchaudio.load(SAMPLE_SPEECH)\n",
        "        augmented = F.fftconvolve(speech, rir_raw)\n",
        "        filename = f\"Convolution_3ch_src{src_idx+1}_rcv{rcv_idx+1}.wav\"\n",
        "        filepath = os.path.join(folder3_path, subfolder+str(src_idx+1), filename)\n",
        "        # WAV 파일로 저장\n",
        "        torchaudio.save(filepath, augmented, 48000)\n",
        "\n",
        "print(\"Convolution wavfile 생성 완료\")"
      ]
    },
    {
      "cell_type": "markdown",
      "metadata": {},
      "source": [
        "### 마이크 신호 만들기\n",
        "- 마이크 3개 기준으로 소스 2개씩 합치기"
      ]
    },
    {
      "cell_type": "code",
      "execution_count": 30,
      "metadata": {},
      "outputs": [],
      "source": [
        "# # 두 개의 WAV 파일 경로\n",
        "# # mic1\n",
        "# file1_path = os.path.join(folder3_path,\"src1\",\"Convolution_3ch_src1_rcv1.wav\")\n",
        "# file2_path = os.path.join(folder3_path,\"src2\",\"Convolution_3ch_src2_rcv1.wav\")\n",
        "\n",
        "# waveform1, _ = torchaudio.load(file1_path)\n",
        "# waveform2, _ = torchaudio.load(file2_path)\n",
        "\n",
        "# overlap_duration = min(waveform1.size(1), waveform2.size(1))\n",
        "# overlap_waveform = waveform1[:, :overlap_duration] + waveform2[:, :overlap_duration]\n",
        "# torchaudio.save(os.path.join(folder3_path,\"mic_signal\",\"room1\",\"mic1.wav\"), overlap_waveform, sample_rate)\n",
        "\n",
        "\n",
        "# # mic2\n",
        "# file1_path = os.path.join(folder3_path,\"src1\",\"Convolution_3ch_src1_rcv2.wav\")\n",
        "# file2_path = os.path.join(folder3_path,\"src2\",\"Convolution_3ch_src2_rcv2.wav\")\n",
        "\n",
        "# waveform1, _ = torchaudio.load(file1_path)\n",
        "# waveform2, _ = torchaudio.load(file2_path)\n",
        "\n",
        "# overlap_duration = min(waveform1.size(1), waveform2.size(1))\n",
        "# overlap_waveform = waveform1[:, :overlap_duration] + waveform2[:, :overlap_duration]\n",
        "# torchaudio.save(os.path.join(folder3_path,\"mic_signal\",\"room1\",\"mic2.wav\"), overlap_waveform, sample_rate)\n",
        "\n",
        "\n",
        "# # mic3\n",
        "# file1_path = os.path.join(folder3_path,\"src1\",\"Convolution_3ch_src1_rcv3.wav\")\n",
        "# file2_path = os.path.join(folder3_path,\"src2\",\"Convolution_3ch_src2_rcv3.wav\")\n",
        "\n",
        "# waveform1, _ = torchaudio.load(file1_path)\n",
        "# waveform2, _ = torchaudio.load(file2_path)\n",
        "\n",
        "# overlap_duration = min(waveform1.size(1), waveform2.size(1))\n",
        "# overlap_waveform = waveform1[:, :overlap_duration] + waveform2[:, :overlap_duration]\n",
        "# torchaudio.save(os.path.join(folder3_path,\"mic_signal\",\"room1\",\"mic3.wav\"), overlap_waveform, sample_rate)"
      ]
    },
    {
      "cell_type": "markdown",
      "metadata": {},
      "source": [
        "\n",
        "- 더 긴 길이를 기준으로 overlap 해주고 짧은 길이는 그만큼 padding 해주고 싶음"
      ]
    },
    {
      "cell_type": "code",
      "execution_count": 31,
      "metadata": {},
      "outputs": [],
      "source": [
        "file1_path = os.path.join(folder3_path,\"src1\",\"Convolution_3ch_src1_rcv1.wav\")\n",
        "file2_path = os.path.join(folder3_path,\"src2\",\"Convolution_3ch_src2_rcv1.wav\")\n",
        "\n",
        "waveform1, _ = torchaudio.load(file1_path)\n",
        "waveform2, _ = torchaudio.load(file2_path)\n",
        "\n",
        "waveform1 = torch.nn.functional.pad(waveform1,(0, int(1.0*sample_rate)))\n",
        "waveform2 = torch.nn.functional.pad(waveform2,(int(1.0*sample_rate), 0))\n",
        "\n",
        "\n",
        "min_length = min(waveform1.size(1), waveform2.size(1))\n",
        "waveform1 = waveform1[:, :min_length]\n",
        "waveform2 = waveform2[:, :min_length]\n",
        "overlap_waveform = waveform1 + waveform2\n",
        "torchaudio.save(os.path.join(folder3_path,\"mic_signal\",\"mic1.wav\"), overlap_waveform, sample_rate)\n",
        "\n",
        "\n",
        "# mic2\n",
        "file1_path = os.path.join(folder3_path,\"src1\",\"Convolution_3ch_src1_rcv2.wav\")\n",
        "file2_path = os.path.join(folder3_path,\"src2\",\"Convolution_3ch_src2_rcv2.wav\")\n",
        "\n",
        "waveform1, _ = torchaudio.load(file1_path)\n",
        "waveform2, _ = torchaudio.load(file2_path)\n",
        "\n",
        "waveform1 = torch.nn.functional.pad(waveform1,(0, int(1.0*sample_rate)))\n",
        "waveform2 = torch.nn.functional.pad(waveform2,(int(1.0*sample_rate), 0))\n",
        "\n",
        "min_length = min(waveform1.size(1), waveform2.size(1))\n",
        "waveform1 = waveform1[:, :min_length]\n",
        "waveform2 = waveform2[:, :min_length]\n",
        "overlap_waveform = waveform1 + waveform2\n",
        "torchaudio.save(os.path.join(folder3_path,\"mic_signal\",\"mic2.wav\"), overlap_waveform, sample_rate)\n",
        "\n",
        "\n",
        "# mic3\n",
        "file1_path = os.path.join(folder3_path,\"src1\",\"Convolution_3ch_src1_rcv3.wav\")\n",
        "file2_path = os.path.join(folder3_path,\"src2\",\"Convolution_3ch_src2_rcv3.wav\")\n",
        "\n",
        "waveform1, _ = torchaudio.load(file1_path)\n",
        "waveform2, _ = torchaudio.load(file2_path)\n",
        "\n",
        "waveform1 = torch.nn.functional.pad(waveform1,(0, int(1.0*sample_rate)))\n",
        "waveform2 = torch.nn.functional.pad(waveform2,(int(1.0*sample_rate), 0))\n",
        "\n",
        "min_length = min(waveform1.size(1), waveform2.size(1))\n",
        "waveform1 = waveform1[:, :min_length]\n",
        "waveform2 = waveform2[:, :min_length]\n",
        "overlap_waveform = waveform1 + waveform2\n",
        "torchaudio.save(os.path.join(folder3_path,\"mic_signal\",\"mic3.wav\"), overlap_waveform, sample_rate)"
      ]
    },
    {
      "cell_type": "code",
      "execution_count": 32,
      "metadata": {},
      "outputs": [],
      "source": [
        "file1_path = os.path.join(folder3_path,\"src1\",\"Convolution_3ch_src1_rcv4.wav\")\n",
        "file2_path = os.path.join(folder3_path,\"src2\",\"Convolution_3ch_src2_rcv4.wav\")\n",
        "\n",
        "waveform1, _ = torchaudio.load(file1_path)\n",
        "waveform2, _ = torchaudio.load(file2_path)\n",
        "\n",
        "waveform1 = torch.nn.functional.pad(waveform1,(0, int(1.0*sample_rate)))\n",
        "waveform2 = torch.nn.functional.pad(waveform2,(int(1.0*sample_rate), 0))\n",
        "\n",
        "\n",
        "min_length = min(waveform1.size(1), waveform2.size(1))\n",
        "waveform1 = waveform1[:, :min_length]\n",
        "waveform2 = waveform2[:, :min_length]\n",
        "overlap_waveform = waveform1 + waveform2\n",
        "torchaudio.save(os.path.join(folder3_path,\"mic_signal\",\"mic4.wav\"), overlap_waveform, sample_rate)\n",
        "\n",
        "\n",
        "# mic2\n",
        "file1_path = os.path.join(folder3_path,\"src1\",\"Convolution_3ch_src1_rcv5.wav\")\n",
        "file2_path = os.path.join(folder3_path,\"src2\",\"Convolution_3ch_src2_rcv5.wav\")\n",
        "\n",
        "waveform1, _ = torchaudio.load(file1_path)\n",
        "waveform2, _ = torchaudio.load(file2_path)\n",
        "\n",
        "waveform1 = torch.nn.functional.pad(waveform1,(0, int(1.0*sample_rate)))\n",
        "waveform2 = torch.nn.functional.pad(waveform2,(int(1.0*sample_rate), 0))\n",
        "\n",
        "min_length = min(waveform1.size(1), waveform2.size(1))\n",
        "waveform1 = waveform1[:, :min_length]\n",
        "waveform2 = waveform2[:, :min_length]\n",
        "overlap_waveform = waveform1 + waveform2\n",
        "torchaudio.save(os.path.join(folder3_path,\"mic_signal\",\"mic5.wav\"), overlap_waveform, sample_rate)\n",
        "\n",
        "\n",
        "# mic3\n",
        "file1_path = os.path.join(folder3_path,\"src1\",\"Convolution_3ch_src1_rcv6.wav\")\n",
        "file2_path = os.path.join(folder3_path,\"src2\",\"Convolution_3ch_src2_rcv6.wav\")\n",
        "\n",
        "waveform1, _ = torchaudio.load(file1_path)\n",
        "waveform2, _ = torchaudio.load(file2_path)\n",
        "\n",
        "waveform1 = torch.nn.functional.pad(waveform1,(0, int(1.0*sample_rate)))\n",
        "waveform2 = torch.nn.functional.pad(waveform2,(int(1.0*sample_rate), 0))\n",
        "\n",
        "min_length = min(waveform1.size(1), waveform2.size(1))\n",
        "waveform1 = waveform1[:, :min_length]\n",
        "waveform2 = waveform2[:, :min_length]\n",
        "overlap_waveform = waveform1 + waveform2\n",
        "torchaudio.save(os.path.join(folder3_path,\"mic_signal\",\"mic6.wav\"), overlap_waveform, sample_rate)"
      ]
    },
    {
      "cell_type": "code",
      "execution_count": null,
      "metadata": {},
      "outputs": [],
      "source": []
    }
  ],
  "metadata": {
    "kernelspec": {
      "display_name": "Python 3",
      "language": "python",
      "name": "python3"
    },
    "language_info": {
      "codemirror_mode": {
        "name": "ipython",
        "version": 3
      },
      "file_extension": ".py",
      "mimetype": "text/x-python",
      "name": "python",
      "nbconvert_exporter": "python",
      "pygments_lexer": "ipython3",
      "version": "3.10.13"
    }
  },
  "nbformat": 4,
  "nbformat_minor": 0
}
